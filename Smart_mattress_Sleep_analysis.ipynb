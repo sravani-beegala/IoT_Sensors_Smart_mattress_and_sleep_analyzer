{
  "nbformat": 4,
  "nbformat_minor": 0,
  "metadata": {
    "kernelspec": {
      "display_name": "Python 3",
      "language": "python",
      "name": "python3"
    },
    "language_info": {
      "codemirror_mode": {
        "name": "ipython",
        "version": 3
      },
      "file_extension": ".py",
      "mimetype": "text/x-python",
      "name": "python",
      "nbconvert_exporter": "python",
      "pygments_lexer": "ipython3",
      "version": "3.7.1"
    },
    "colab": {
      "name": "Sleep_patterns-V3.ipynb",
      "provenance": [],
      "collapsed_sections": []
    }
  },
  "cells": [
    {
      "cell_type": "markdown",
      "metadata": {
        "id": "heVlmDmQlszu",
        "colab_type": "text"
      },
      "source": [
        "# Analysing Sleep Patterns - IoT Project"
      ]
    },
    {
      "cell_type": "code",
      "metadata": {
        "id": "lOIZvuO1l-TI",
        "colab_type": "code",
        "outputId": "fdcd626a-1fbb-4ac5-cf59-f11ae2ca6b3b",
        "colab": {
          "base_uri": "https://localhost:8080/",
          "height": 122
        }
      },
      "source": [
        "from google.colab import drive\n",
        "drive.mount('/content/drive')"
      ],
      "execution_count": 0,
      "outputs": [
        {
          "output_type": "stream",
          "text": [
            "Go to this URL in a browser: https://accounts.google.com/o/oauth2/auth?client_id=947318989803-6bn6qk8qdgf4n4g3pfee6491hc0brc4i.apps.googleusercontent.com&redirect_uri=urn%3aietf%3awg%3aoauth%3a2.0%3aoob&response_type=code&scope=email%20https%3a%2f%2fwww.googleapis.com%2fauth%2fdocs.test%20https%3a%2f%2fwww.googleapis.com%2fauth%2fdrive%20https%3a%2f%2fwww.googleapis.com%2fauth%2fdrive.photos.readonly%20https%3a%2f%2fwww.googleapis.com%2fauth%2fpeopleapi.readonly\n",
            "\n",
            "Enter your authorization code:\n",
            "··········\n",
            "Mounted at /content/drive\n"
          ],
          "name": "stdout"
        }
      ]
    },
    {
      "cell_type": "code",
      "metadata": {
        "id": "XU1ESA4Clszv",
        "colab_type": "code",
        "colab": {}
      },
      "source": [
        "import numpy as np\n",
        "import pandas as pd\n",
        "import matplotlib.pyplot as plt"
      ],
      "execution_count": 0,
      "outputs": []
    },
    {
      "cell_type": "code",
      "metadata": {
        "id": "8iP2D1unlsz0",
        "colab_type": "code",
        "colab": {}
      },
      "source": [
        "dataset = pd.read_csv('/content/drive/My Drive/ColabNotebooks/Consolidated_data.csv')"
      ],
      "execution_count": 0,
      "outputs": []
    },
    {
      "cell_type": "code",
      "metadata": {
        "scrolled": false,
        "id": "-5Wqclxllsz7",
        "colab_type": "code",
        "outputId": "d61d3517-23a7-440d-eb0b-17964e0246cd",
        "colab": {
          "base_uri": "https://localhost:8080/",
          "height": 323
        }
      },
      "source": [
        "dataset.head(5)"
      ],
      "execution_count": 0,
      "outputs": [
        {
          "output_type": "execute_result",
          "data": {
            "text/html": [
              "<div>\n",
              "<style scoped>\n",
              "    .dataframe tbody tr th:only-of-type {\n",
              "        vertical-align: middle;\n",
              "    }\n",
              "\n",
              "    .dataframe tbody tr th {\n",
              "        vertical-align: top;\n",
              "    }\n",
              "\n",
              "    .dataframe thead th {\n",
              "        text-align: right;\n",
              "    }\n",
              "</style>\n",
              "<table border=\"1\" class=\"dataframe\">\n",
              "  <thead>\n",
              "    <tr style=\"text-align: right;\">\n",
              "      <th></th>\n",
              "      <th>Temperature (Celcius)</th>\n",
              "      <th>Humidity %</th>\n",
              "      <th>Light (Lux)</th>\n",
              "      <th>Pressure (Pascals)</th>\n",
              "      <th>AirQuality (ppb)</th>\n",
              "      <th>GyroX (degrees/second)</th>\n",
              "      <th>GyroY</th>\n",
              "      <th>GyroZ</th>\n",
              "      <th>AccelerometerX (g's)</th>\n",
              "      <th>AccelerometerY</th>\n",
              "      <th>AccelerometerZ</th>\n",
              "      <th>Date (morning after data collection)</th>\n",
              "      <th>GMT of Data Reading</th>\n",
              "      <th>Local Time</th>\n",
              "    </tr>\n",
              "  </thead>\n",
              "  <tbody>\n",
              "    <tr>\n",
              "      <th>0</th>\n",
              "      <td>23.43</td>\n",
              "      <td>32.87</td>\n",
              "      <td>0</td>\n",
              "      <td>98966</td>\n",
              "      <td>127</td>\n",
              "      <td>-2.06</td>\n",
              "      <td>2.69</td>\n",
              "      <td>-1.38</td>\n",
              "      <td>-0.02</td>\n",
              "      <td>-0.61</td>\n",
              "      <td>-0.77</td>\n",
              "      <td>3/10/2020</td>\n",
              "      <td>3:59:39 AM</td>\n",
              "      <td>10:59:39 PM</td>\n",
              "    </tr>\n",
              "    <tr>\n",
              "      <th>1</th>\n",
              "      <td>23.40</td>\n",
              "      <td>32.76</td>\n",
              "      <td>3</td>\n",
              "      <td>98975</td>\n",
              "      <td>137</td>\n",
              "      <td>-0.19</td>\n",
              "      <td>1.88</td>\n",
              "      <td>-0.31</td>\n",
              "      <td>0.00</td>\n",
              "      <td>0.01</td>\n",
              "      <td>-1.00</td>\n",
              "      <td>3/10/2020</td>\n",
              "      <td>3:59:49 AM</td>\n",
              "      <td>10:59:49 PM</td>\n",
              "    </tr>\n",
              "    <tr>\n",
              "      <th>2</th>\n",
              "      <td>23.38</td>\n",
              "      <td>32.38</td>\n",
              "      <td>1</td>\n",
              "      <td>98989</td>\n",
              "      <td>130</td>\n",
              "      <td>-1.56</td>\n",
              "      <td>1.63</td>\n",
              "      <td>0.25</td>\n",
              "      <td>0.00</td>\n",
              "      <td>0.00</td>\n",
              "      <td>-0.98</td>\n",
              "      <td>3/10/2020</td>\n",
              "      <td>3:59:59 AM</td>\n",
              "      <td>10:59:59 PM</td>\n",
              "    </tr>\n",
              "    <tr>\n",
              "      <th>3</th>\n",
              "      <td>23.35</td>\n",
              "      <td>32.05</td>\n",
              "      <td>1</td>\n",
              "      <td>98999</td>\n",
              "      <td>127</td>\n",
              "      <td>-4.25</td>\n",
              "      <td>-1.63</td>\n",
              "      <td>-1.00</td>\n",
              "      <td>-0.03</td>\n",
              "      <td>0.01</td>\n",
              "      <td>-0.97</td>\n",
              "      <td>3/10/2020</td>\n",
              "      <td>4:00:10 AM</td>\n",
              "      <td>11:00:10 PM</td>\n",
              "    </tr>\n",
              "    <tr>\n",
              "      <th>4</th>\n",
              "      <td>23.29</td>\n",
              "      <td>32.13</td>\n",
              "      <td>3</td>\n",
              "      <td>98949</td>\n",
              "      <td>128</td>\n",
              "      <td>-1.50</td>\n",
              "      <td>1.88</td>\n",
              "      <td>0.25</td>\n",
              "      <td>-0.04</td>\n",
              "      <td>0.03</td>\n",
              "      <td>-0.97</td>\n",
              "      <td>3/10/2020</td>\n",
              "      <td>4:00:19 AM</td>\n",
              "      <td>11:00:19 PM</td>\n",
              "    </tr>\n",
              "  </tbody>\n",
              "</table>\n",
              "</div>"
            ],
            "text/plain": [
              "   Temperature (Celcius)  Humidity %  ...  GMT of Data Reading   Local Time\n",
              "0                  23.43       32.87  ...           3:59:39 AM  10:59:39 PM\n",
              "1                  23.40       32.76  ...           3:59:49 AM  10:59:49 PM\n",
              "2                  23.38       32.38  ...           3:59:59 AM  10:59:59 PM\n",
              "3                  23.35       32.05  ...           4:00:10 AM  11:00:10 PM\n",
              "4                  23.29       32.13  ...           4:00:19 AM  11:00:19 PM\n",
              "\n",
              "[5 rows x 14 columns]"
            ]
          },
          "metadata": {
            "tags": []
          },
          "execution_count": 5
        }
      ]
    },
    {
      "cell_type": "code",
      "metadata": {
        "id": "zMzaEL5pls0A",
        "colab_type": "code",
        "colab": {}
      },
      "source": [
        "dataset = dataset.drop(dataset.columns[[8,9,10,12]],axis=1)"
      ],
      "execution_count": 0,
      "outputs": []
    },
    {
      "cell_type": "code",
      "metadata": {
        "id": "zqVR8_7Xls0E",
        "colab_type": "code",
        "colab": {}
      },
      "source": [
        "dataset.columns = ['Temperature','Humidity','Light','Pressure','Air_quality','Gyrox','Gyroy','Gyroz','Date','Time']"
      ],
      "execution_count": 0,
      "outputs": []
    },
    {
      "cell_type": "code",
      "metadata": {
        "id": "PwsdSgLuls0J",
        "colab_type": "code",
        "colab": {}
      },
      "source": [
        "dataset = dataset[['Date','Time','Temperature','Humidity','Light','Pressure','Air_quality','Gyrox','Gyroy','Gyroz']]"
      ],
      "execution_count": 0,
      "outputs": []
    },
    {
      "cell_type": "code",
      "metadata": {
        "id": "JGj0v5ZGls0N",
        "colab_type": "code",
        "outputId": "4bd173d0-acbf-4560-e8ca-188e0c03b1bf",
        "colab": {
          "base_uri": "https://localhost:8080/",
          "height": 204
        }
      },
      "source": [
        "dataset.head(5)"
      ],
      "execution_count": 0,
      "outputs": [
        {
          "output_type": "execute_result",
          "data": {
            "text/html": [
              "<div>\n",
              "<style scoped>\n",
              "    .dataframe tbody tr th:only-of-type {\n",
              "        vertical-align: middle;\n",
              "    }\n",
              "\n",
              "    .dataframe tbody tr th {\n",
              "        vertical-align: top;\n",
              "    }\n",
              "\n",
              "    .dataframe thead th {\n",
              "        text-align: right;\n",
              "    }\n",
              "</style>\n",
              "<table border=\"1\" class=\"dataframe\">\n",
              "  <thead>\n",
              "    <tr style=\"text-align: right;\">\n",
              "      <th></th>\n",
              "      <th>Date</th>\n",
              "      <th>Time</th>\n",
              "      <th>Temperature</th>\n",
              "      <th>Humidity</th>\n",
              "      <th>Light</th>\n",
              "      <th>Pressure</th>\n",
              "      <th>Air_quality</th>\n",
              "      <th>Gyrox</th>\n",
              "      <th>Gyroy</th>\n",
              "      <th>Gyroz</th>\n",
              "    </tr>\n",
              "  </thead>\n",
              "  <tbody>\n",
              "    <tr>\n",
              "      <th>0</th>\n",
              "      <td>3/10/2020</td>\n",
              "      <td>10:59:39 PM</td>\n",
              "      <td>23.43</td>\n",
              "      <td>32.87</td>\n",
              "      <td>0</td>\n",
              "      <td>98966</td>\n",
              "      <td>127</td>\n",
              "      <td>-2.06</td>\n",
              "      <td>2.69</td>\n",
              "      <td>-1.38</td>\n",
              "    </tr>\n",
              "    <tr>\n",
              "      <th>1</th>\n",
              "      <td>3/10/2020</td>\n",
              "      <td>10:59:49 PM</td>\n",
              "      <td>23.40</td>\n",
              "      <td>32.76</td>\n",
              "      <td>3</td>\n",
              "      <td>98975</td>\n",
              "      <td>137</td>\n",
              "      <td>-0.19</td>\n",
              "      <td>1.88</td>\n",
              "      <td>-0.31</td>\n",
              "    </tr>\n",
              "    <tr>\n",
              "      <th>2</th>\n",
              "      <td>3/10/2020</td>\n",
              "      <td>10:59:59 PM</td>\n",
              "      <td>23.38</td>\n",
              "      <td>32.38</td>\n",
              "      <td>1</td>\n",
              "      <td>98989</td>\n",
              "      <td>130</td>\n",
              "      <td>-1.56</td>\n",
              "      <td>1.63</td>\n",
              "      <td>0.25</td>\n",
              "    </tr>\n",
              "    <tr>\n",
              "      <th>3</th>\n",
              "      <td>3/10/2020</td>\n",
              "      <td>11:00:10 PM</td>\n",
              "      <td>23.35</td>\n",
              "      <td>32.05</td>\n",
              "      <td>1</td>\n",
              "      <td>98999</td>\n",
              "      <td>127</td>\n",
              "      <td>-4.25</td>\n",
              "      <td>-1.63</td>\n",
              "      <td>-1.00</td>\n",
              "    </tr>\n",
              "    <tr>\n",
              "      <th>4</th>\n",
              "      <td>3/10/2020</td>\n",
              "      <td>11:00:19 PM</td>\n",
              "      <td>23.29</td>\n",
              "      <td>32.13</td>\n",
              "      <td>3</td>\n",
              "      <td>98949</td>\n",
              "      <td>128</td>\n",
              "      <td>-1.50</td>\n",
              "      <td>1.88</td>\n",
              "      <td>0.25</td>\n",
              "    </tr>\n",
              "  </tbody>\n",
              "</table>\n",
              "</div>"
            ],
            "text/plain": [
              "        Date         Time  Temperature  ...  Gyrox  Gyroy  Gyroz\n",
              "0  3/10/2020  10:59:39 PM        23.43  ...  -2.06   2.69  -1.38\n",
              "1  3/10/2020  10:59:49 PM        23.40  ...  -0.19   1.88  -0.31\n",
              "2  3/10/2020  10:59:59 PM        23.38  ...  -1.56   1.63   0.25\n",
              "3  3/10/2020  11:00:10 PM        23.35  ...  -4.25  -1.63  -1.00\n",
              "4  3/10/2020  11:00:19 PM        23.29  ...  -1.50   1.88   0.25\n",
              "\n",
              "[5 rows x 10 columns]"
            ]
          },
          "metadata": {
            "tags": []
          },
          "execution_count": 9
        }
      ]
    },
    {
      "cell_type": "markdown",
      "metadata": {
        "id": "4hB8QZoGls0R",
        "colab_type": "text"
      },
      "source": [
        "Gyrometers gives the angles relative to its initial orientaion"
      ]
    },
    {
      "cell_type": "markdown",
      "metadata": {
        "id": "xDVio67Mls0S",
        "colab_type": "text"
      },
      "source": [
        "Dropping the dates on which sensors didnt work"
      ]
    },
    {
      "cell_type": "code",
      "metadata": {
        "scrolled": true,
        "id": "QhclZbGAls0T",
        "colab_type": "code",
        "outputId": "69f8b7df-f7a3-4536-e6e0-c3d5064242c8",
        "colab": {
          "base_uri": "https://localhost:8080/",
          "height": 34
        }
      },
      "source": [
        "dataset.shape"
      ],
      "execution_count": 0,
      "outputs": [
        {
          "output_type": "execute_result",
          "data": {
            "text/plain": [
              "(46030, 10)"
            ]
          },
          "metadata": {
            "tags": []
          },
          "execution_count": 10
        }
      ]
    },
    {
      "cell_type": "code",
      "metadata": {
        "id": "CVr6nLoyls0a",
        "colab_type": "code",
        "colab": {}
      },
      "source": [
        "indexNames = dataset[(dataset['Date']=='3/10/2020')|\n",
        "                    (dataset['Date']=='3/13/2020') |\n",
        "                    (dataset['Date']=='3/14/2020') |\n",
        "                    (dataset['Date']=='3/19/2020') |\n",
        "                    (dataset['Date']=='3/22/2020') |\n",
        "                    (dataset['Date']=='3/23/2020') |\n",
        "                    (dataset['Date']=='3/26/2020') |\n",
        "                    (dataset['Date']=='3/29/2020') |\n",
        "                    (dataset['Date']=='3/31/2020')].index\n",
        "\n",
        "dataset.drop(indexNames, inplace = True)"
      ],
      "execution_count": 0,
      "outputs": []
    },
    {
      "cell_type": "code",
      "metadata": {
        "scrolled": true,
        "id": "6Ld1rK7hls0d",
        "colab_type": "code",
        "outputId": "c0ed8cb6-ec94-4ef0-96eb-c35b7db2a475",
        "colab": {
          "base_uri": "https://localhost:8080/",
          "height": 34
        }
      },
      "source": [
        "dataset.shape"
      ],
      "execution_count": 0,
      "outputs": [
        {
          "output_type": "execute_result",
          "data": {
            "text/plain": [
              "(27026, 10)"
            ]
          },
          "metadata": {
            "tags": []
          },
          "execution_count": 12
        }
      ]
    },
    {
      "cell_type": "code",
      "metadata": {
        "id": "xd86oBo1ls0l",
        "colab_type": "code",
        "colab": {}
      },
      "source": [
        "### Defining user defined functions to get the angle of rotation by gyroscope readings\n",
        "\n",
        "## angle of rotation between two 3D vectors\n",
        "\n",
        "# https://www.analyzemath.com/stepbystep_mathworksheets/vectors/vector3D_angle.html\n",
        "\n",
        "def row_vector(row_number):\n",
        "    return [dataset.Gyrox.values[row_number],dataset.Gyroy.values[row_number],dataset.Gyroz.values[row_number]]\n",
        "\n",
        "def unit_vector(row_number):\n",
        "    vector = row_vector(row_number)\n",
        "    return vector / np.linalg.norm(vector)\n",
        "\n",
        "def angle_of_rotation(row_number):\n",
        "    try:\n",
        "        v1_u = unit_vector(row_number)\n",
        "        previous_row_number = row_number-1\n",
        "        v2_u = unit_vector(previous_row_number)\n",
        "        return round(np.arccos(np.dot(v2_u, v1_u)),3)\n",
        "        \n",
        "    except IndexError:\n",
        "        return None"
      ],
      "execution_count": 0,
      "outputs": []
    },
    {
      "cell_type": "code",
      "metadata": {
        "id": "iT5LFCigls0o",
        "colab_type": "code",
        "colab": {}
      },
      "source": [
        "dataset = dataset.reset_index(drop=True)"
      ],
      "execution_count": 0,
      "outputs": []
    },
    {
      "cell_type": "code",
      "metadata": {
        "scrolled": false,
        "id": "nwBqcz9-ls0s",
        "colab_type": "code",
        "outputId": "6b467d14-210b-4ebb-b863-9dc733d3f1fb",
        "colab": {
          "base_uri": "https://localhost:8080/",
          "height": 51
        }
      },
      "source": [
        "dataset['angle_of_rotation'] = dataset.apply(lambda row: angle_of_rotation(row.name),axis = 1)"
      ],
      "execution_count": 0,
      "outputs": [
        {
          "output_type": "stream",
          "text": [
            "/usr/local/lib/python3.6/dist-packages/ipykernel_launcher.py:14: RuntimeWarning: invalid value encountered in arccos\n",
            "  \n"
          ],
          "name": "stderr"
        }
      ]
    },
    {
      "cell_type": "code",
      "metadata": {
        "scrolled": true,
        "id": "55yD9Lrhls0v",
        "colab_type": "code",
        "outputId": "89177746-ea3b-4cc9-9789-b6a323052934",
        "colab": {
          "base_uri": "https://localhost:8080/",
          "height": 34
        }
      },
      "source": [
        "print(len(dataset[dataset['angle_of_rotation'] == 0]))"
      ],
      "execution_count": 0,
      "outputs": [
        {
          "output_type": "stream",
          "text": [
            "128\n"
          ],
          "name": "stdout"
        }
      ]
    },
    {
      "cell_type": "code",
      "metadata": {
        "scrolled": true,
        "id": "Lg_2K3BJls0y",
        "colab_type": "code",
        "outputId": "028b6ff4-8e05-4498-dad5-a4717fc97f16",
        "colab": {
          "base_uri": "https://localhost:8080/",
          "height": 221
        }
      },
      "source": [
        "dataset.isna().sum()"
      ],
      "execution_count": 0,
      "outputs": [
        {
          "output_type": "execute_result",
          "data": {
            "text/plain": [
              "Date                  0\n",
              "Time                  0\n",
              "Temperature           0\n",
              "Humidity              0\n",
              "Light                 0\n",
              "Pressure              0\n",
              "Air_quality           0\n",
              "Gyrox                 0\n",
              "Gyroy                 0\n",
              "Gyroz                 0\n",
              "angle_of_rotation    37\n",
              "dtype: int64"
            ]
          },
          "metadata": {
            "tags": []
          },
          "execution_count": 18
        }
      ]
    },
    {
      "cell_type": "code",
      "metadata": {
        "id": "JYKcNIiJls02",
        "colab_type": "code",
        "colab": {}
      },
      "source": [
        "dataset = dataset.dropna()"
      ],
      "execution_count": 0,
      "outputs": []
    },
    {
      "cell_type": "code",
      "metadata": {
        "id": "BbBcYxeYls0-",
        "colab_type": "code",
        "outputId": "0a86fb00-3cad-4ce8-adc5-788abb27fe9a",
        "colab": {
          "base_uri": "https://localhost:8080/",
          "height": 34
        }
      },
      "source": [
        "dataset.shape"
      ],
      "execution_count": 0,
      "outputs": [
        {
          "output_type": "execute_result",
          "data": {
            "text/plain": [
              "(26989, 11)"
            ]
          },
          "metadata": {
            "tags": []
          },
          "execution_count": 20
        }
      ]
    },
    {
      "cell_type": "markdown",
      "metadata": {
        "id": "VsPYcKKXls1E",
        "colab_type": "text"
      },
      "source": [
        "Dropping columns - Date, Time, Gyrox, Gyroy, Gyroz"
      ]
    },
    {
      "cell_type": "code",
      "metadata": {
        "id": "NQusX5TLls1E",
        "colab_type": "code",
        "colab": {}
      },
      "source": [
        "cleaned_dataset = dataset.drop(dataset.columns[[0,1,7,8,9]], axis =1)"
      ],
      "execution_count": 0,
      "outputs": []
    },
    {
      "cell_type": "code",
      "metadata": {
        "id": "fage4119ls1H",
        "colab_type": "code",
        "outputId": "e6b59fcf-3463-4ab2-dfef-febc7806a69b",
        "colab": {
          "base_uri": "https://localhost:8080/",
          "height": 204
        }
      },
      "source": [
        "cleaned_dataset.head(5)"
      ],
      "execution_count": 0,
      "outputs": [
        {
          "output_type": "execute_result",
          "data": {
            "text/html": [
              "<div>\n",
              "<style scoped>\n",
              "    .dataframe tbody tr th:only-of-type {\n",
              "        vertical-align: middle;\n",
              "    }\n",
              "\n",
              "    .dataframe tbody tr th {\n",
              "        vertical-align: top;\n",
              "    }\n",
              "\n",
              "    .dataframe thead th {\n",
              "        text-align: right;\n",
              "    }\n",
              "</style>\n",
              "<table border=\"1\" class=\"dataframe\">\n",
              "  <thead>\n",
              "    <tr style=\"text-align: right;\">\n",
              "      <th></th>\n",
              "      <th>Temperature</th>\n",
              "      <th>Humidity</th>\n",
              "      <th>Light</th>\n",
              "      <th>Pressure</th>\n",
              "      <th>Air_quality</th>\n",
              "      <th>angle_of_rotation</th>\n",
              "    </tr>\n",
              "  </thead>\n",
              "  <tbody>\n",
              "    <tr>\n",
              "      <th>0</th>\n",
              "      <td>24.51</td>\n",
              "      <td>35.04</td>\n",
              "      <td>0</td>\n",
              "      <td>98837</td>\n",
              "      <td>143</td>\n",
              "      <td>2.744</td>\n",
              "    </tr>\n",
              "    <tr>\n",
              "      <th>1</th>\n",
              "      <td>24.55</td>\n",
              "      <td>34.97</td>\n",
              "      <td>0</td>\n",
              "      <td>98867</td>\n",
              "      <td>148</td>\n",
              "      <td>1.964</td>\n",
              "    </tr>\n",
              "    <tr>\n",
              "      <th>2</th>\n",
              "      <td>24.54</td>\n",
              "      <td>34.79</td>\n",
              "      <td>0</td>\n",
              "      <td>98845</td>\n",
              "      <td>150</td>\n",
              "      <td>0.599</td>\n",
              "    </tr>\n",
              "    <tr>\n",
              "      <th>3</th>\n",
              "      <td>24.51</td>\n",
              "      <td>34.93</td>\n",
              "      <td>0</td>\n",
              "      <td>98864</td>\n",
              "      <td>150</td>\n",
              "      <td>1.259</td>\n",
              "    </tr>\n",
              "    <tr>\n",
              "      <th>4</th>\n",
              "      <td>24.49</td>\n",
              "      <td>34.61</td>\n",
              "      <td>0</td>\n",
              "      <td>98864</td>\n",
              "      <td>150</td>\n",
              "      <td>2.327</td>\n",
              "    </tr>\n",
              "  </tbody>\n",
              "</table>\n",
              "</div>"
            ],
            "text/plain": [
              "   Temperature  Humidity  Light  Pressure  Air_quality  angle_of_rotation\n",
              "0        24.51     35.04      0     98837          143              2.744\n",
              "1        24.55     34.97      0     98867          148              1.964\n",
              "2        24.54     34.79      0     98845          150              0.599\n",
              "3        24.51     34.93      0     98864          150              1.259\n",
              "4        24.49     34.61      0     98864          150              2.327"
            ]
          },
          "metadata": {
            "tags": []
          },
          "execution_count": 23
        }
      ]
    },
    {
      "cell_type": "code",
      "metadata": {
        "scrolled": true,
        "id": "eMXMlCIUls1L",
        "colab_type": "code",
        "outputId": "501e7a1d-0a09-403c-aa45-59d0b7631f69",
        "colab": {
          "base_uri": "https://localhost:8080/",
          "height": 136
        }
      },
      "source": [
        "cleaned_dataset.dtypes"
      ],
      "execution_count": 0,
      "outputs": [
        {
          "output_type": "execute_result",
          "data": {
            "text/plain": [
              "Temperature          float64\n",
              "Humidity             float64\n",
              "Light                  int64\n",
              "Pressure               int64\n",
              "Air_quality            int64\n",
              "angle_of_rotation    float64\n",
              "dtype: object"
            ]
          },
          "metadata": {
            "tags": []
          },
          "execution_count": 24
        }
      ]
    },
    {
      "cell_type": "markdown",
      "metadata": {
        "id": "Kpgm3n2Rls1O",
        "colab_type": "text"
      },
      "source": [
        "### Machine Learning models"
      ]
    },
    {
      "cell_type": "code",
      "metadata": {
        "id": "kU_7Xogjls1O",
        "colab_type": "code",
        "colab": {}
      },
      "source": [
        "# Splitting the Data set\n",
        "# Defining X and y variables\n",
        "\n",
        "from sklearn.model_selection import train_test_split\n",
        "\n",
        "df_train, df_test = train_test_split(cleaned_dataset, test_size=0.20)\n",
        "\n",
        "features = ['Temperature','Humidity','Light','Pressure',\n",
        "            'Air_quality','angle_of_rotation']\n",
        "df_train = df_train[features]\n",
        "df_test = df_test[features]\n",
        "\n",
        "X_train, y_train = df_train.drop('angle_of_rotation',axis=1), df_train['angle_of_rotation']\n",
        "X_test, y_test = df_test.drop('angle_of_rotation',axis=1), df_test['angle_of_rotation']"
      ],
      "execution_count": 0,
      "outputs": []
    },
    {
      "cell_type": "code",
      "metadata": {
        "id": "mxhoTEbals1h",
        "colab_type": "code",
        "outputId": "9c9fec8a-47e4-47f7-973e-af43a6c4165f",
        "colab": {
          "base_uri": "https://localhost:8080/",
          "height": 136
        }
      },
      "source": [
        "## Fitting Random Forest Regressor\n",
        "\n",
        "from sklearn.ensemble import RandomForestRegressor\n",
        "rf = RandomForestRegressor(n_estimators = 100,\n",
        "                           n_jobs = -1,\n",
        "                           oob_score = True,\n",
        "                           bootstrap = True,\n",
        "                           random_state = 42)\n",
        "\n",
        "rf.fit(X_train, y_train)"
      ],
      "execution_count": 0,
      "outputs": [
        {
          "output_type": "execute_result",
          "data": {
            "text/plain": [
              "RandomForestRegressor(bootstrap=True, ccp_alpha=0.0, criterion='mse',\n",
              "                      max_depth=None, max_features='auto', max_leaf_nodes=None,\n",
              "                      max_samples=None, min_impurity_decrease=0.0,\n",
              "                      min_impurity_split=None, min_samples_leaf=1,\n",
              "                      min_samples_split=2, min_weight_fraction_leaf=0.0,\n",
              "                      n_estimators=100, n_jobs=-1, oob_score=True,\n",
              "                      random_state=42, verbose=0, warm_start=False)"
            ]
          },
          "metadata": {
            "tags": []
          },
          "execution_count": 34
        }
      ]
    },
    {
      "cell_type": "code",
      "metadata": {
        "scrolled": true,
        "id": "JNhDKhcYls1j",
        "colab_type": "code",
        "outputId": "8575084f-dcda-44fa-f288-2cc91aea6710",
        "colab": {
          "base_uri": "https://localhost:8080/",
          "height": 51
        }
      },
      "source": [
        "print('Training Score: {:.2f} \\nValidation Score: {:.2f}'.format(rf.score(X_train, y_train),\n",
        "                                                                         rf.score(X_test, y_test)))\n"
      ],
      "execution_count": 0,
      "outputs": [
        {
          "output_type": "stream",
          "text": [
            "Training Score: 0.89 \n",
            "Validation Score: 0.28\n"
          ],
          "name": "stdout"
        }
      ]
    },
    {
      "cell_type": "markdown",
      "metadata": {
        "id": "ebVUMPzwls1m",
        "colab_type": "text"
      },
      "source": [
        "### Feature importance by Permutation in Random Forest\n"
      ]
    },
    {
      "cell_type": "code",
      "metadata": {
        "id": "-HJD5SD1r7Md",
        "colab_type": "code",
        "outputId": "abff6b89-c490-495b-9217-8af3c71fb305",
        "colab": {
          "base_uri": "https://localhost:8080/",
          "height": 585
        }
      },
      "source": [
        "# Understanding the difference betweeen default feature importance by RF and permutation importances\n",
        "\n",
        "# https://towardsdatascience.com/explaining-feature-importance-by-example-of-a-random-forest-d9166011959e\n",
        "\n",
        "\n",
        "from sklearn.inspection import permutation_importance\n",
        "\n",
        "result = permutation_importance(rf, X_train, y_train, n_repeats=10,\n",
        "                                random_state=42)\n",
        "\n",
        "perm_sorted_idx = result.importances_mean.argsort()\n",
        "\n",
        "tree_importance_sorted_idx = np.argsort(rf.feature_importances_)\n",
        "tree_indices = np.arange(0, len(rf.feature_importances_)) + 0.5\n",
        "\n",
        "fig, (ax1, ax2) = plt.subplots(1, 2, figsize=(12, 8))\n",
        "ax1.barh(tree_indices,\n",
        "         rf.feature_importances_[tree_importance_sorted_idx], height=0.7)\n",
        "\n",
        "ax1.set_yticklabels(X_test.columns[tree_importance_sorted_idx])\n",
        "\n",
        "ax1.set_yticks(tree_indices)\n",
        "\n",
        "ax1.set_ylim((0, len(rf.feature_importances_)))\n",
        "ax1.set_title(\"Random Forest Feature Importances (MDI)\")\n",
        "\n",
        "ax2.boxplot(result.importances[perm_sorted_idx].T, vert=False,\n",
        "            labels=X_test.columns[perm_sorted_idx])\n",
        "ax2.set_title(\"Permutation Importances\")\n",
        "\n",
        "fig.tight_layout()\n",
        "plt.show()\n"
      ],
      "execution_count": 0,
      "outputs": [
        {
          "output_type": "display_data",
          "data": {
            "image/png": "[encoded data removed]",
            "text/plain": [
              "<Figure size 864x576 with 2 Axes>"
            ]
          },
          "metadata": {
            "tags": [],
            "needs_background": "light"
          }
        }
      ]
    }
  ]
}